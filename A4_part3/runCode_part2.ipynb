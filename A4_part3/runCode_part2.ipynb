{
 "cells": [
  {
   "cell_type": "code",
   "execution_count": null,
   "metadata": {},
   "outputs": [],
   "source": []
  },
  {
   "cell_type": "code",
   "execution_count": null,
   "metadata": {},
   "outputs": [],
   "source": [
    "game = ch.Game(red=tonto.Strategy,black=tonto.Strategy,maxplies=5)\n",
    "ga55# %run -i \"D:\\Courses\\2020 Spring (Processing)\\CS-550 Artificial Intelligence\\Assignments\\Assignment 3\\a3_Part2\\drive02.py\""
   ]
  },
  {
   "cell_type": "markdown",
   "execution_count": null,
   "metadata": {},
   "outputs": [],
   "source": [
    "# Import packages"
   ]
  },
  {
   "cell_type": "code",
   "execution_count": null,
   "metadata": {},
   "outputs": [],
   "source": [
    "import checkerboard as cb\n",
    "import ai\n",
    "import checkers as ch\n",
    "\n",
    "import imp\n",
    "import sys\n",
    "major = sys.version_info[0]\n",
    "minor = sys.version_info[1]\n",
    "modpath = \"__pycache__/tonto.cpython-{}{}.pyc\".format(major, minor)\n",
    "tonto = imp.load_compiled(\"tonto\", modpath)"
   ]
  },
  {
   "cell_type": "code",
   "execution_count": null,
   "metadata": {},
   "outputs": [],
   "source": []
  },
  {
   "cell_type": "code",
   "execution_count": null,
   "metadata": {},
   "outputs": [],
   "source": [
    "# from tileboard import TileBoard\n",
    "# import driver02\n",
    "import importlib\n",
    "# importlib.reload(driver02)\n",
    "# importlib.reload(np)\n",
    "# importlib.reload(cb)\n",
    "importlib.reload(ai)\n",
    "importlib.reload(ch)\n"
   ]
  },
  {
   "cell_type": "markdown",
   "execution_count": null,
   "metadata": {},
   "outputs": [],
   "source": [
    "# Test classes"
   ]
  },
  {
   "cell_type": "code",
   "execution_count": null,
   "metadata": {},
   "outputs": [],
   "source": [
    "board = cb.CheckerBoard()\n",
    "\n",
    "playerId = board.playeridx('r')\n",
    "otherId = board.playeridx('b')\n",
    "board.pawnsN[playerId] + board.kingsN[playerId]*4 - board.pawnsN[otherId] - board.kingsN[otherId]*4\n",
    "\n",
    "board.get_actions('r')\n",
    "# playerId\n",
    "# otherId"
   ]
  },
  {
   "cell_type": "code",
   "execution_count": null,
   "metadata": {},
   "outputs": [],
   "source": [
    "for action in board.get_actions('r'):\n",
    "    print(action)"
   ]
  },
  {
   "cell_type": "code",
   "execution_count": null,
   "metadata": {},
   "outputs": [],
   "source": [
    "checker = cb.CheckerBoard()\n",
    "bot = ai.Strategy('r',checker,maxplies=5)\n",
    "# bot.play(checker)"
   ]
  },
  {
   "cell_type": "code",
   "execution_count": null,
   "metadata": {},
   "outputs": [],
   "source": [
    "# game = ch.Game()\n",
    "game = ch.Game(red=tonto.Strategy,black=tonto.Strategy,maxplies=5)"
   ]
  },
  {
   "cell_type": "code",
   "execution_count": null,
   "metadata": {},
   "outputs": [],
   "source": [
    "game = ch.Game(red=ai.Strategy,black=tonto.Strategy,maxplies=5)"
   ]
  },
  {
   "cell_type": "code",
   "execution_count": null,
   "metadata": {},
   "outputs": [],
   "source": [
    "game"
   ]
  },
  {
   "cell_type": "code",
   "execution_count": null,
   "metadata": {},
   "outputs": [],
   "source": [
    "game = ch.Game(black=tonto.Strategy,maxplies=5)"
   ]
  },
  {
   "cell_type": "code",
   "execution_count": 29,
   "metadata": {},
   "outputs": [
    {
     "name": "stderr",
     "output_type": "stream",
     "text": "test_kingstour (__main__.testBoard)\n\"test_kingstour - Verify kings tour ...ok\ntest_multihopcapture (__main__.testBoard)\nCan we predict multiple hops ...ok\ntest_prisitine (__main__.testBoard)\nCheck moves on initial checkerboard ...ok\ntest_simplecapture (__main__.testBoard)\nSingle capture - no multiple hops ...player r row 0 distance 0\n\nplayer r row 1 distance 1\n\nplayer r row 2 distance 2\n\nplayer r row 3 distance 3\n\nplayer r row 4 distance 4\n\nplayer r row 5 distance 5\n\nplayer r row 6 distance 6\n\nplayer r row 7 distance 7\n\nplayer b row 0 distance 7\n\nplayer b row 1 distance 6\n\nplayer b row 2 distance 5\n\nplayer b row 3 distance 4\n\nplayer b row 4 distance 3\n\nplayer b row 5 distance 2\n\nplayer b row 6 distance 1\n\nplayer b row 7 distance 0\n\n\nMove b from  (0, 1)\n   0  1  2  3  4  5  6  7 \n0     b     b     b     b \n1  b     r     b     .    \n2     r     .     b     b \n3  .     .     .     .    \n4     .     r     b     . \n5  .     .     .     r    \n6     r     r     r     r \n7  r     .     r     .    \nmove:  captures 1,  \n   0  1  2  3  4  5  6  7 \n0     .     b     b     b \n1  b     .     b     .    \n2     r     b     b     b \n3  .     .     .     .    \n4     .     r     b     . \n5  .     .     .     r    \n6     r     r     r     r \n7  r     .     r     .    \n\nMove b from  (1, 0)\n   0  1  2  3  4  5  6  7 \n0     b     b     b     b \n1  b     r     b     .    \n2     r     .     b     b \n3  .     .     .     .    \n4     .     r     b     . \n5  .     .     .     r    \n6     r     r     r     r \n7  r     .     r     .    \nmove:  captures 3,  kinged, \n\n   0  1  2  3  4  5  6  7 \n0     b     b     b     b \n1  .     r     b     .    \n2     .     .     b     b \n3  .     .     .     .    \n4     .     .     b     . \n5  .     .     .     r    \n6     r     .     r     r \n7  r     B     r     .    \n\nMove b from  (1, 0)\n   0  1  2  3  4  5  6  7 \n0     b     b     b     b \n1  b     r     b     .    \n2     r     .     b     b \n3  .     .     .     .    \n4     .     r     b     . \n5  .     .     .     r    \n6     r     r     r     r \n7  r     .     r     .    \nmove:  captures 3,  kinged, \n\n   0  1  2  3  4  5  6  7 \n0     b     b     b     b \n1  .     r     b     .    \n2     .     .     b     b \n3  .     .     .     .    \n4     .     .     b     . \n5  .     .     .     r    \n6     r     r     .     r \n7  r     .     r     B    \nok\n\n----------------------------------------------------------------------\nRan 4 tests in 0.006s\n\nOK\n"
    }
   ],
   "source": [
    "%run -i \"D:\\Courses\\2020 Spring (Processing)\\CS-550 Artificial Intelligence\\Assignments\\Assignment 4\\checkers-skeleton\\unittests.py\""
   ]
  },
  {
   "cell_type": "code",
   "execution_count": null,
   "metadata": {},
   "outputs": [],
   "source": []
  }
 ],
 "metadata": {
  "kernelspec": {
   "display_name": "Python 3",
   "language": "python",
   "name": "python3"
  },
  "language_info": {
   "codemirror_mode": {
    "name": "ipython",
    "version": 3
   },
   "file_extension": ".py",
   "mimetype": "text/x-python",
   "name": "python",
   "nbconvert_exporter": "python",
   "pygments_lexer": "ipython3",
   "version": "3.7.5-final"
  }
 },
 "nbformat": 4,
 "nbformat_minor": 2
}