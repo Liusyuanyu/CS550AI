{
 "cells": [
  {
   "cell_type": "code",
   "execution_count": null,
   "metadata": {},
   "outputs": [],
   "source": [
    "# %run -i \"D:\\Courses\\2020 Spring (Processing)\\CS-550 Artificial Intelligence\\Assignments\\Assignment 3\\a3_Part2\\drive02.py\""
   ]
  },
  {
   "cell_type": "markdown",
   "execution_count": null,
   "metadata": {},
   "outputs": [],
   "source": [
    "# Test functions"
   ]
  },
  {
   "cell_type": "code",
   "execution_count": null,
   "metadata": {},
   "outputs": [],
   "source": [
    "# importlib.reload(npuzzle)\n",
    "import npuzzle as np\n",
    "import problemsearch as ps \n",
    "from searchstrategies import (BreadthFirst, DepthFirst, Manhattan)\n",
    "# from basicsearch_lib02.tileboard import TileBoard"
   ]
  },
  {
   "cell_type": "code",
   "execution_count": null,
   "metadata": {},
   "outputs": [],
   "source": [
    "# from tileboard import TileBoard\n",
    "# import driver02\n",
    "import importlib\n",
    "# importlib.reload(driver02)\n",
    "# importlib.reload(np)\n",
    "importlib.reload(ps)\n"
   ]
  },
  {
   "cell_type": "code",
   "execution_count": null,
   "metadata": {},
   "outputs": [],
   "source": [
    "# puzzle = np.NPuzzle(8,force_state=[1,2,3,4,5,6,7,None,8],g=BreadthFirst.g, h = BreadthFirst.h)\n",
    "# puzzle = np.NPuzzle(8,force_state=[1,2,3,4,5,6,None,7,8],g=BreadthFirst.g, h = BreadthFirst.h)\n",
    "# puzzle = np.NPuzzle(8,g=BreadthFirst.g, h = BreadthFirst.h)\n",
    "puzzle = np.NPuzzle(8,force_state=[7,5,4,None,3,2,8,1,6], g=BreadthFirst.g, h = BreadthFirst.h)\n",
    "\n",
    "\n",
    "# puzzle = np.NPuzzle(8,force_state=[1,2,3,4,5,6,None,7,8],g=DepthFirst.g, h = DepthFirst.h)\n",
    "# puzzle = np.NPuzzle(8,force_state=[1,2,3,4,5,6,7,None,8],g=DepthFirst.g, h = DepthFirst.h)\n",
    "# puzzle = np.NPuzzle(8,force_state=[1,2,None,4,5,3,7,8,6],g=DepthFirst.g, h = DepthFirst.h)\n",
    "# puzzle = np.NPuzzle(8,force_state=[7,5,4,None,3,2,8,1,6], g=DepthFirst.g, h = DepthFirst.h)\n",
    "# puzzle = np.NPuzzle(8,g=DepthFirst.g, h = DepthFirst.h)\n",
    "\n",
    "\n",
    "# puzzle = np.NPuzzle(8,force_state=[1,2,None,4,5,3,7,8,6],g=Manhattan.g, h = Manhattan.h)\n",
    "# puzzle = np.NPuzzle(8,force_state=[1,2,3,4,5,6,None,7,8],g=Manhattan.g, h = Manhattan.h)\n",
    "# puzzle = np.NPuzzle(8,g=Manhattan.g, h = Manhattan.h)\n",
    "# puzzle = np.NPuzzle(8,force_state=[7,5,4,None,3,2,8,1,6], g=Manhattan.g, h = Manhattan.h)\n",
    "puzzle.goal_test(puzzle.initial)\n",
    "\n",
    "# puzzle.goal_test(puzzle.state)"
   ]
  },
  {
   "cell_type": "code",
   "execution_count": null,
   "metadata": {},
   "outputs": [],
   "source": [
    "puzzle.initial"
   ]
  },
  {
   "cell_type": "code",
   "execution_count": null,
   "metadata": {},
   "outputs": [],
   "source": [
    "result = ps.graph_search(puzzle)"
   ]
  },
  {
   "cell_type": "code",
   "execution_count": null,
   "metadata": {},
   "outputs": [],
   "source": [
    "print('Steps: ', len( result[0] ))\n",
    "\n",
    "for step in result[0]:\n",
    "    print(step)"
   ]
  },
  {
   "cell_type": "code",
   "execution_count": null,
   "metadata": {},
   "outputs": [],
   "source": [
    "result[1]\n",
    "\n",
    "# node_num"
   ]
  },
  {
   "cell_type": "code",
   "execution_count": null,
   "metadata": {},
   "outputs": [],
   "source": [
    "result[2]\n"
   ]
  },
  {
   "cell_type": "markdown",
   "metadata": {},
   "source": [
    "## Use drive02"
   ]
  },
  {
   "cell_type": "code",
   "execution_count": 42,
   "metadata": {},
   "outputs": [
    {
     "name": "stderr",
     "output_type": "stream",
     "text": "ERROR:root:File `'D:\\\\Courses\\\\2020 Spring (Processing)\\\\CS-550 Artificial Intelligence\\\\Assignments\\\\Assignment 3\\\\a3_Part2\\\\drive02.py'` not found.\n"
    }
   ],
   "source": [
    "%run -i \"D:\\Courses\\2020 Spring (Processing)\\CS-550 Artificial Intelligence\\Assignments\\Assignment 3\\a3_Part2\\driver02.py\"\n"
   ]
  },
  {
   "cell_type": "markdown",
   "metadata": {},
   "source": [
    "## Non use"
   ]
  },
  {
   "cell_type": "code",
   "execution_count": null,
   "metadata": {},
   "outputs": [],
   "source": [
    "import sys\n",
    "from IPython.display import clear_output\n",
    "count = 0\n",
    "\n",
    "search = threading.Thread(target=thread_function, args=(puzzle,))\n",
    "# search = threading.Thread(target=testfunc)\n",
    "alive = True\n",
    "first =False\n",
    "while(alive):\n",
    "    time.sleep(0.2) # do real work here\n",
    "    clear_output(wait=True)\n",
    "\n",
    "    if(not first):\n",
    "        first=not first\n",
    "        search.start()\n",
    "    \n",
    "    if (count%8==0):\n",
    "        print('—')\n",
    "    elif count%8==1:\n",
    "        print('\\\\')\n",
    "    elif count%8==2:\n",
    "        print('|')\n",
    "    elif count%8==3:\n",
    "        print('/')\n",
    "    elif count%8==4:\n",
    "        print('—')\n",
    "    elif count%8==5:\n",
    "        print('\\\\')\n",
    "    elif count%8==6:\n",
    "        print('|')\n",
    "    elif count%8==7:\n",
    "        print('/')\n",
    "        count=-1\n",
    "\n",
    "    alive = search.is_alive()\n",
    "    count+=1\n",
    "print('\\nSearch Done!')\n"
   ]
  },
  {
   "cell_type": "code",
   "execution_count": null,
   "metadata": {},
   "outputs": [],
   "source": [
    "import logging\n",
    "import threading\n",
    "import time\n",
    "\n",
    "def thread_function(puzzle):\n",
    "    # time.sleep(2)\n",
    "    path , node_num = ps.graph_search(puzzle)\n",
    "    print('Search Done!')\n",
    "\n",
    "\n",
    "# search = threading.Thread(target=thread_function, args=puzzle)\n",
    "# search.start()"
   ]
  }
 ],
 "metadata": {
  "kernelspec": {
   "display_name": "Python 3",
   "language": "python",
   "name": "python3"
  },
  "language_info": {
   "codemirror_mode": {
    "name": "ipython",
    "version": 3
   },
   "file_extension": ".py",
   "mimetype": "text/x-python",
   "name": "python",
   "nbconvert_exporter": "python",
   "pygments_lexer": "ipython3",
   "version": "3.7.5-final"
  }
 },
 "nbformat": 4,
 "nbformat_minor": 2
}